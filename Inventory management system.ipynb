{
 "cells": [
  {
   "cell_type": "code",
   "execution_count": 1,
   "id": "43e31037",
   "metadata": {},
   "outputs": [],
   "source": [
    "available_products={1001:{\"name\":\"perk\",\"price\":5,\"quantity\":20,\"weight\":20,\"calorie\":50},\n",
    "      1002:{\"name\":\"kitkat\",\"price\":5,\"quantity\":20,\"weight\":10,\"calorie\":30},\n",
    "      1003:{\"name\":\"5star\",\"price\":5,\"quantity\":20,\"weight\":15,\"calorie\":70},\n",
    "      1004:{\"name\":\"cadbury\",\"price\":5,\"quantity\":20,\"weight\":20,\"calorie\":90},\n",
    "      1005:{\"name\":\"munch\",\"price\":10,\"quantity\":20,\"weight\":10,\"calorie\":70},\n",
    "      1006:{\"name\":\"mango\",\"price\":10,\"quantity\":20,\"weight\":20,\"calorie\":60},\n",
    "      1007:{\"name\":\"fruti\",\"price\":20,\"quantity\":20,\"weight\":50,\"calorie\":30},\n",
    "      1008:{\"name\":\"fizza\",\"price\":30,\"quantity\":20,\"weight\":50,\"calorie\":50},\n",
    "      1009:{\"name\":\"macho\",\"price\":50,\"quantity\":20,\"weight\":20,\"calorie\":50},\n",
    "      1010:{\"name\":\"bulk\",\"price\":5,\"quantity\":20,\"weight\":20,\"calorie\":70},\n",
    "      1011:{\"name\":\"bingo\",\"price\":5,\"quantity\":20,\"weight\":20,\"calorie\":50},\n",
    "      1012:{\"name\":\"fruti\",\"price\":5,\"quantity\":20,\"weight\":10,\"calorie\":40},\n",
    "      1013:{\"name\":\"cargo\",\"price\":25,\"quantity\":20,\"weight\":20,\"calorie\":100},\n",
    "      1014:{\"name\":\"oreo\",\"price\":15,\"quantity\":20,\"weight\":20,\"calorie\":70},\n",
    "      1015:{\"name\":\"cocacola\",\"price\":20,\"quantity\":20,\"weight\":200,\"calorie\":50},\n",
    "      1016:{\"name\":\"parle\",\"price\":5,\"quantity\":20,\"weight\":20,\"calorie\":50},\n",
    "      1017:{\"name\":\"mari\",\"price\":5,\"quantity\":20,\"weight\":50,\"calorie\":50},\n",
    "      1018:{\"name\":\"dark\",\"price\":30,\"quantity\":20,\"weight\":20,\"calorie\":50},\n",
    "      1019:{\"name\":\"amul choco\",\"price\":100,\"quantity\":20,\"weight\":100,\"calorie\":50},\n",
    "      1020:{\"name\":\"maggi\",\"price\":12,\"quantity\":20,\"weight\":20,\"calorie\":50},\n",
    "      1021:{\"name\":\"pears\",\"price\":18,\"quantity\":20,\"weight\":20,\"calorie\":50},\n",
    "      1022:{\"name\":\"layz\",\"price\":10,\"quantity\":20,\"weight\":20,\"calorie\":50},\n",
    "      1023:{\"name\":\"cheese\",\"price\":25,\"quantity\":20,\"weight\":25,\"calorie\":100},\n",
    "      1024:{\"name\":\"wheels\",\"price\":5,\"quantity\":20,\"weight\":30,\"calorie\":50},\n",
    "      1025:{\"name\":\"peanuts\",\"price\":500,\"quantity\":20,\"weight\":250,\"calorie\":200},\n",
    "      1026:{\"name\":\"gold crisp\",\"price\":10,\"quantity\":20,\"weight\":10,\"calorie\":500},\n",
    "      1027:{\"name\":\"silk\",\"price\":100,\"quantity\":20,\"weight\":50,\"calorie\":250},\n",
    "      1028:{\"name\":\"milkbar\",\"price\":5,\"quantity\":20,\"weight\":10,\"calorie\":30},\n",
    "      1029:{\"name\":\"lassi\",\"price\":20,\"quantity\":20,\"weight\":300,\"calorie\":150},\n",
    "      1030:{\"name\":\"red bull\",\"price\":120,\"quantity\":20,\"weight\":200,\"calorie\":175}\n",
    "      }"
   ]
  },
  {
   "cell_type": "code",
   "execution_count": null,
   "id": "e6c7833a",
   "metadata": {},
   "outputs": [],
   "source": [
    "#creating products.json file with available products\n",
    "import json\n",
    "js=json.dumps(available_products)\n",
    "x=open(\"products.json\",'w')\n",
    "x.write(js)\n",
    "x.close()\n",
    "x=open(\"products.json\",'r')\n",
    "txt=x.read()\n",
    "x.close()\n",
    "list2=json.loads(txt)"
   ]
  },
  {
   "cell_type": "code",
   "execution_count": 8,
   "id": "ebe91d06",
   "metadata": {},
   "outputs": [
    {
     "name": "stdout",
     "output_type": "stream",
     "text": [
      "enter the product id      :1004\n",
      "enter the quantity        :10\n",
      "product name              : cadbury\n",
      "price per piece in rupees : 5\n",
      "***********************************************\n",
      "bill amount in rupees is  : 50\n",
      "weight of products        : 200 mg\n",
      "***********************************************\n",
      "thank you for shopping! visit again \n"
     ]
    }
   ],
   "source": [
    "#getting products info from products file\n",
    "x=open(\"products.json\",'r')\n",
    "txt=x.read()\n",
    "x.close()\n",
    "list2=json.loads(txt)\n",
    "\n",
    "\n",
    "#creating bill for product\n",
    "n=input(\"enter the product id      :\")\n",
    "m=int(input(\"enter the quantity        :\"))\n",
    "\n",
    "if n in list2:\n",
    "  product =list2[n]\n",
    "  if m<=product[\"quantity\"]:\n",
    "  \n",
    "        print(\"product name              :\",product[\"name\"])\n",
    "        print(\"price per piece in rupees :\",product['price'])\n",
    "        print(\"***********************************************\")\n",
    "        print(\"bill amount in rupees is  :\",product['price']*m)\n",
    "        print(\"weight of products        :\",product['weight']*m,\"mg\")\n",
    "        print(\"***********************************************\")\n",
    "        print(\"thank you for shopping! visit again \")\n",
    "        #product_remain=product['quantity']-m\n",
    "\n",
    "  else:\n",
    "      print(\"sorry for inconvenience but we have limited stock\")\n",
    "      m=0\n",
    "else:\n",
    "  print(\"product not found\")\n",
    "  m=0\n",
    "#remaining quantity of product \n",
    "product_remain=product['quantity']-m\n",
    "list2[n][\"quantity\"]=product_remain\n",
    "\n",
    "\n",
    "\n",
    "#adding sold products info into sold file\n",
    "sold_list={n:{'product name':product[\"name\"],'quantity sold':m,'amount':product['price']*m}}\n",
    "se=json.dumps(sold_list)\n",
    "x=open(\"sell.json\",'w')\n",
    "x.write(se)\n",
    "x.close()\n",
    "#updating product file after product is sold\n",
    "js=json.dumps(list2)\n",
    "x=open(\"products.json\",'w')\n",
    "x.write(js)\n",
    "x.close()\n"
   ]
  },
  {
   "cell_type": "code",
   "execution_count": 10,
   "id": "25bff3bb",
   "metadata": {},
   "outputs": [
    {
     "name": "stdout",
     "output_type": "stream",
     "text": [
      "enter the product id      :1031\n",
      "enter name           :Good Day\n",
      "enter the quantity        :30\n",
      "enter price5\n",
      "enter weight100\n",
      "enter calorie30\n",
      "product added \n"
     ]
    }
   ],
   "source": [
    "x=open(\"products.json\",'r')\n",
    "txt=x.read()\n",
    "x.close()\n",
    "list3=json.loads(txt)\n",
    "\n",
    "#updating products in list\n",
    "\n",
    "n=input(\"enter the product id      :\")\n",
    "if n in list3:\n",
    "  m=int(input(\"enter the quantity        :\"))\n",
    "  k=list3[n]['quantity']+m\n",
    "  list3[n]['quantity']=k\n",
    "\n",
    "else:\n",
    "  p=input(\"enter name           :\")\n",
    "  m=int(input(\"enter the quantity        :\"))\n",
    "  o=int(input(\"enter price       :\"))\n",
    "  w=float(input(\"enter weight      :\"))\n",
    "  c=float(input(\"enter calorie      :\"))\n",
    "  list3[n]={'name':p,'price per piece':o,'quantity':m,'weight':w,'calorie':c}\n",
    "\n",
    "#updating products in product file\n",
    "\n",
    "ne=json.dumps(list3)\n",
    "x=open(\"products.json\",'w')\n",
    "x.write(ne)\n",
    "x.close()\n",
    "print(\"product added \")\n"
   ]
  },
  {
   "cell_type": "code",
   "execution_count": null,
   "id": "45a53dbc",
   "metadata": {},
   "outputs": [],
   "source": []
  }
 ],
 "metadata": {
  "kernelspec": {
   "display_name": "Python 3",
   "language": "python",
   "name": "python3"
  },
  "language_info": {
   "codemirror_mode": {
    "name": "ipython",
    "version": 3
   },
   "file_extension": ".py",
   "mimetype": "text/x-python",
   "name": "python",
   "nbconvert_exporter": "python",
   "pygments_lexer": "ipython3",
   "version": "3.8.8"
  }
 },
 "nbformat": 4,
 "nbformat_minor": 5
}
